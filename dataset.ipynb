{
 "cells": [
  {
   "cell_type": "code",
   "execution_count": 2,
   "metadata": {},
   "outputs": [],
   "source": [
    "import numpy as np\n",
    "import matplotlib.pyplot as plt\n",
    "import os\n",
    "import cv2"
   ]
  },
  {
   "cell_type": "code",
   "execution_count": 3,
   "metadata": {},
   "outputs": [],
   "source": [
    "DATADIR = \"/home/red/Documents/SkinDisease/dataset/archive/dataset_categorized_final_split/train\"\n",
    "CATEGORIES  = [\n",
    "        \"Acne and Rosacea Photos\",\n",
    "        \"Actinic Keratosis Basal Cell Carcinoma and other Malignant Lesions\",\n",
    "        \"Atopic Dermatitis Photos\",\n",
    "        \"Bullous Disease Photos\",\n",
    "        \"Cellulitis Impetigo and other Bacterial Infections\",\n",
    "        # \"Eczema Photos\",\n",
    "        # \"Exanthems and Drug Eruptions\",\n",
    "        # \"Hair Loss Photos Alopecia and other Hair Diseases\",\n",
    "        # \"Herpes HPV and other STDs Photos\",\n",
    "        # \"Light Diseases and Disorders of Pigmentation\",\n",
    "        # \"Lupus and other Connective Tissue diseases\",\n",
    "        # \"Melanoma Skin Cancer Nevi and Moles\",\n",
    "        # \"Nail Fungus and other Nail Disease\",\n",
    "        # \"Poison Ivy Photos and other Contact Dermatitis\",\n",
    "        # \"Psoriasis pictures Lichen Planus and related diseases\",\n",
    "        # \"Scabies Lyme Disease and other Infestations and Bites\",\n",
    "        # \"Seborrheic Keratoses and other Benign Tumors\",\n",
    "        # \"Systemic Disease\",\n",
    "        # \"Tinea Ringworm Candidiasis and other Fungal Infections\",\n",
    "        # \"Urticaria Hives\",\n",
    "        # \"Vascular Tumors\",\n",
    "        # \"Vasculitis Photos\",\n",
    "        # \"Warts Molluscum and other Viral Infections\"\n",
    "    ]\n",
    "IMG_SIZE = 299"
   ]
  },
  {
   "cell_type": "code",
   "execution_count": 4,
   "metadata": {},
   "outputs": [
    {
     "name": "stdout",
     "output_type": "stream",
     "text": [
      "Image Failed to load  0\n"
     ]
    }
   ],
   "source": [
    "training_data = []\n",
    "image_failed = 0\n",
    "\n",
    "def create_training_data():\n",
    "    for category in CATEGORIES:\n",
    "        path = os.path.join(DATADIR, category) # path to image data\n",
    "        class_num = CATEGORIES.index(category)\n",
    "        for img in os.listdir(path):\n",
    "            try:\n",
    "                img_array = cv2.imread(os.path.join(path, img), cv2.IMREAD_GRAYSCALE)\n",
    "                new_array = cv2.resize(img_array, (IMG_SIZE, IMG_SIZE))\n",
    "                training_data.append([new_array, class_num])\n",
    "                # plt.imshow(new_array, cmap = \"gray\")\n",
    "                # plt.show()\n",
    "                # break\n",
    "            except Exception as e:\n",
    "                image_failed += 1\n",
    "\n",
    "\n",
    "create_training_data()\n",
    "\n",
    "print(\"Image Failed to load \", image_failed)"
   ]
  },
  {
   "cell_type": "code",
   "execution_count": 5,
   "metadata": {},
   "outputs": [
    {
     "name": "stdout",
     "output_type": "stream",
     "text": [
      "5253\n"
     ]
    }
   ],
   "source": [
    "print(len(training_data))"
   ]
  },
  {
   "cell_type": "code",
   "execution_count": 6,
   "metadata": {},
   "outputs": [
    {
     "name": "stdout",
     "output_type": "stream",
     "text": [
      "[array([[191, 179, 172, ..., 184, 186, 203],\n",
      "       [191, 188, 164, ..., 186, 193, 183],\n",
      "       [184, 186, 189, ..., 175, 191, 188],\n",
      "       ...,\n",
      "       [206, 203, 200, ..., 188, 192, 201],\n",
      "       [198, 210, 227, ..., 186, 192, 201],\n",
      "       [209, 209, 211, ..., 181, 198, 203]], dtype=uint8), 1]\n",
      "[array([[148, 151, 153, ..., 192, 187, 193],\n",
      "       [149, 146, 154, ..., 197, 194, 181],\n",
      "       [147, 151, 147, ..., 192, 184, 194],\n",
      "       ...,\n",
      "       [110, 117, 122, ..., 183, 185, 182],\n",
      "       [112, 110, 125, ..., 180, 181, 180],\n",
      "       [116, 106, 118, ..., 179, 184, 188]], dtype=uint8), 4]\n",
      "[array([[137, 131, 128, ...,   7,   8,   7],\n",
      "       [135, 121, 125, ...,   6,   5,  13],\n",
      "       [120, 135, 140, ...,   6,   8,   3],\n",
      "       ...,\n",
      "       [ 77,  79,  76, ...,  60,  67,  61],\n",
      "       [ 75,  86,  81, ...,  59,  64,  56],\n",
      "       [ 71,  84,  83, ...,  60,  62,  56]], dtype=uint8), 4]\n",
      "[array([[52, 57, 60, ..., 11, 10,  8],\n",
      "       [53, 58, 61, ..., 10,  9,  7],\n",
      "       [54, 59, 62, ...,  9,  9,  7],\n",
      "       ...,\n",
      "       [ 2,  2,  2, ...,  2,  2,  2],\n",
      "       [ 1,  1,  1, ...,  2,  2,  2],\n",
      "       [ 1,  1,  1, ...,  2,  2,  2]], dtype=uint8), 2]\n",
      "[array([[ 35,  35,  37, ...,  81,  78,  76],\n",
      "       [ 36,  37,  39, ...,  85,  82,  79],\n",
      "       [ 37,  38,  40, ...,  90,  86,  82],\n",
      "       ...,\n",
      "       [130, 131, 129, ..., 110, 114, 120],\n",
      "       [129, 130, 128, ..., 107, 111, 119],\n",
      "       [127, 129, 128, ..., 104, 109, 118]], dtype=uint8), 1]\n",
      "[array([[ 8,  5,  4, ..., 73, 70, 72],\n",
      "       [ 3,  4,  2, ..., 78, 72, 77],\n",
      "       [ 6,  6, 15, ..., 77, 79, 78],\n",
      "       ...,\n",
      "       [29, 27, 29, ..., 19, 19, 19],\n",
      "       [28, 26, 27, ..., 20, 19, 19],\n",
      "       [28, 27, 28, ..., 20, 19, 19]], dtype=uint8), 3]\n",
      "[array([[202, 202, 199, ..., 186, 188, 194],\n",
      "       [197, 198, 194, ..., 188, 190, 184],\n",
      "       [198, 210, 197, ..., 189, 189, 182],\n",
      "       ...,\n",
      "       [201, 196, 204, ..., 185, 183, 181],\n",
      "       [218, 199, 189, ..., 185, 181, 190],\n",
      "       [122, 196, 196, ..., 179, 179, 192]], dtype=uint8), 3]\n",
      "[array([[139,  85,  68, ..., 130, 139, 135],\n",
      "       [150,  89,  98, ..., 132, 137, 142],\n",
      "       [141, 151, 144, ..., 160, 133, 130],\n",
      "       ...,\n",
      "       [120, 100,  98, ..., 106, 107, 107],\n",
      "       [113, 111, 108, ..., 107, 107, 108],\n",
      "       [102, 108,  94, ..., 113, 101, 105]], dtype=uint8), 4]\n",
      "[array([[70, 66, 68, ..., 68, 68, 67],\n",
      "       [76, 75, 75, ..., 67, 67, 67],\n",
      "       [77, 76, 76, ..., 67, 66, 66],\n",
      "       ...,\n",
      "       [80, 79, 81, ..., 58, 55, 50],\n",
      "       [81, 79, 82, ..., 57, 55, 50],\n",
      "       [82, 79, 83, ..., 57, 55, 51]], dtype=uint8), 0]\n",
      "[array([[ 5,  3,  3, ..., 19, 15, 27],\n",
      "       [ 4,  5,  3, ...,  8, 43, 15],\n",
      "       [ 4,  5,  3, ...,  9, 50, 12],\n",
      "       ...,\n",
      "       [ 8,  3,  4, ...,  4,  4,  4],\n",
      "       [ 5,  6,  4, ...,  4,  4,  4],\n",
      "       [ 5,  4,  5, ...,  4,  4,  4]], dtype=uint8), 2]\n"
     ]
    }
   ],
   "source": [
    "import random\n",
    "random.shuffle(training_data)\n",
    "\n",
    "for sample in training_data[:10]:\n",
    "    print(sample)"
   ]
  },
  {
   "cell_type": "code",
   "execution_count": 31,
   "metadata": {},
   "outputs": [],
   "source": [
    "X = []\n",
    "y = []\n",
    "for features, label in training_data:\n",
    "    X.append(features)\n",
    "    y.append(label)\n",
    "\n",
    "X = np.array(X).reshape(-1, IMG_SIZE, IMG_SIZE, 1)"
   ]
  },
  {
   "cell_type": "code",
   "execution_count": 1,
   "metadata": {},
   "outputs": [],
   "source": [
    "import pickle\n",
    "\n",
    "X_out = open(\"X.pickle\", \"wb\")\n",
    "pickle.dump(X, X_out)\n",
    "X_out.close()\n",
    "\n",
    "y_out = open(\"y.pickle\", \"wb\")\n",
    "pickle.dump(y, y_out)\n",
    "y_out.close()"
   ]
  },
  {
   "cell_type": "code",
   "execution_count": null,
   "metadata": {},
   "outputs": [],
   "source": [
    "X_in = open(\"X.pickle\", \"rb\")\n",
    "X = pickle.load(X_in)\n",
    "\n",
    "y_in = open(\"y.pickle\", \"rb\")\n",
    "y = pickle.load(y_in)"
   ]
  }
 ],
 "metadata": {
  "kernelspec": {
   "display_name": "Python 3.8.10 ('venv': venv)",
   "language": "python",
   "name": "python3"
  },
  "language_info": {
   "codemirror_mode": {
    "name": "ipython",
    "version": 3
   },
   "file_extension": ".py",
   "mimetype": "text/x-python",
   "name": "python",
   "nbconvert_exporter": "python",
   "pygments_lexer": "ipython3",
   "version": "3.8.10"
  },
  "orig_nbformat": 4,
  "vscode": {
   "interpreter": {
    "hash": "83a321dd3a5a6d1c650c6b167e512d290cb697366b92275aa60513462fed6ffe"
   }
  }
 },
 "nbformat": 4,
 "nbformat_minor": 2
}
